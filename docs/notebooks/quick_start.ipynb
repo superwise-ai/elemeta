{
    "cells": [
        {
            "cell_type": "markdown",
            "metadata": {},
            "source": [
                "<img src=https://raw.githubusercontent.com/superwise-ai/elemeta/54825ed11287ac69d809a4590749d6b63404dd1d/docs/images/elemeta_cover_image_white_narrow.png alt=\"Elemeta\">"
            ]
        },
        {
            "cell_type": "markdown",
            "metadata": {
                "id": "SzWLNf_pXVCl"
            },
            "source": [
                "## Quick start"
            ]
        },
        {
            "cell_type": "markdown",
            "metadata": {},
            "source": [
                "it is possible to use wide viraite of out-of-the-box metafeature extorctors found in the library(full list can be found here)"
            ]
        },
        {
            "cell_type": "code",
            "execution_count": null,
            "metadata": {
                "tags": []
            },
            "outputs": [],
            "source": [
                "!pip install elemeta"
            ]
        },
        {
            "cell_type": "markdown",
            "metadata": {},
            "source": [
                "##### Sentiment Polarity\n",
                "* Polarity range between [-1,1]. \n",
                "* -1 defines a negative sentiment and 1 defines a positive sentiment. \n",
                "* Negation words reverse the polarity."
            ]
        },
        {
            "cell_type": "code",
            "execution_count": 2,
            "metadata": {
                "tags": []
            },
            "outputs": [
                {
                    "name": "stdout",
                    "output_type": "stream",
                    "text": [
                        "0.6369\n",
                        "-0.7845\n",
                        "-0.5337\n"
                    ]
                }
            ],
            "source": [
                "from elemeta.nlp.extractors.high_level.sentiment_polarity import SentimentPolarity\n",
                "\n",
                "sp = SentimentPolarity()\n",
                "print(sp(\"I love Superwise\"))\n",
                "print(sp(\"I hate haters\"))\n",
                "print(sp(\"This is not a super happy excited sentence\"))"
            ]
        },
        {
            "cell_type": "markdown",
            "metadata": {},
            "source": [
                "##### Detect Langauge\n",
                "This extractor will automatically detect the language of the text."
            ]
        },
        {
            "cell_type": "code",
            "execution_count": 3,
            "metadata": {
                "tags": []
            },
            "outputs": [
                {
                    "name": "stdout",
                    "output_type": "stream",
                    "text": [
                        "en\n",
                        "he\n",
                        "fr\n",
                        "zh-cn\n"
                    ]
                }
            ],
            "source": [
                "from elemeta.nlp.extractors.high_level.detect_langauge_langdetect import DetectLanguage\n",
                "\n",
                "ld = DetectLanguage()\n",
                "print(ld(\"This text is in English\"))\n",
                "print(ld(\"הטקסט הזה בעברית\"))\n",
                "print(ld(\"Ce texte est en français\"))\n",
                "print(ld(\"这段文字是法语\"))"
            ]
        },
        {
            "cell_type": "markdown",
            "metadata": {},
            "source": [
                "### Enrichment Suite"
            ]
        },
        {
            "cell_type": "markdown",
            "metadata": {},
            "source": [
                "We can use MetafeatureExtractorsRunner to muliple metafeature values at once.\n",
                "We can supply a list of metadate extractor we want to run and then we get a runner that can be applayed on text and getting list of metafeatures values.\n",
                "to run all the extractor on a text we can use runner funtion `run(text: str) -> Dict[str, Union[str, float, int]]`"
            ]
        },
        {
            "cell_type": "code",
            "execution_count": 4,
            "metadata": {
                "tags": []
            },
            "outputs": [
                {
                    "data": {
                        "text/plain": [
                            "{'sentiment_polarity': 0.7096, 'detect_langauge': 'en'}"
                        ]
                    },
                    "execution_count": 4,
                    "metadata": {},
                    "output_type": "execute_result"
                }
            ],
            "source": [
                "from elemeta.nlp.runners.metafeature_extractors_runner import MetafeatureExtractorsRunner\n",
                "\n",
                "metafeature_extractors_runner = MetafeatureExtractorsRunner(metafeature_extractors=[sp,ld])\n",
                "metafeature_extractors_runner.run(\"This is a text about how good life is :)\")"
            ]
        },
        {
            "cell_type": "markdown",
            "metadata": {
                "tags": []
            },
            "source": [
                "If no metafeature extractors supplied a default set of extractors will be selected"
            ]
        },
        {
            "cell_type": "code",
            "execution_count": 5,
            "metadata": {
                "tags": []
            },
            "outputs": [
                {
                    "data": {
                        "text/plain": [
                            "{'emoji_count': 0,\n",
                            " 'text_complexity': 113.1,\n",
                            " 'unique_word_ratio': 0.875,\n",
                            " 'unique_word_count': 7,\n",
                            " 'word_regex_matches_count': 11,\n",
                            " 'number_count': 0,\n",
                            " 'out_of_vocabulary_count': 0,\n",
                            " 'must_appear_words_percentage': 0,\n",
                            " 'sentence_count': 1,\n",
                            " 'sentence_avg_length': 40.0,\n",
                            " 'word_count': 9,\n",
                            " 'avg_word_length': 3.2222222222222223,\n",
                            " 'text_length': 40,\n",
                            " 'stop_words_count': 6,\n",
                            " 'punctuation_count': 2,\n",
                            " 'special_chars_count': 0,\n",
                            " 'capital_letters_ratio': 0.034482758620689655,\n",
                            " 'regex_match_count': 1,\n",
                            " 'email_count': 0,\n",
                            " 'link_count': 0,\n",
                            " 'hashtag_count': 0,\n",
                            " 'mention_count': 0,\n",
                            " 'syllable_count': 9,\n",
                            " 'acronym_count': 0,\n",
                            " 'date_count': 0}"
                        ]
                    },
                    "execution_count": 5,
                    "metadata": {},
                    "output_type": "execute_result"
                }
            ],
            "source": [
                "from elemeta.nlp.runners.metafeature_extractors_runner import MetafeatureExtractorsRunner\n",
                "\n",
                "metafeature_extractors_runner = MetafeatureExtractorsRunner()\n",
                "metafeature_extractors_runner.run(\"This is a text about how good life is :)\")"
            ]
        },
        {
            "cell_type": "markdown",
            "metadata": {},
            "source": [
                "To add new `MetafeatureExtractor` to existing `MetafeatureExtractorsRunner` we can use\n",
                "`add_metafeature_extractor(metafeature_extractor: AbstractTextMetafeatureExtractor) -> None:`"
            ]
        },
        {
            "cell_type": "code",
            "execution_count": 6,
            "metadata": {
                "tags": []
            },
            "outputs": [
                {
                    "data": {
                        "text/plain": [
                            "{'emoji_count': 0,\n",
                            " 'text_complexity': 113.1,\n",
                            " 'unique_word_ratio': 0.875,\n",
                            " 'unique_word_count': 7,\n",
                            " 'word_regex_matches_count': 11,\n",
                            " 'number_count': 0,\n",
                            " 'out_of_vocabulary_count': 0,\n",
                            " 'must_appear_words_percentage': 0,\n",
                            " 'sentence_count': 1,\n",
                            " 'sentence_avg_length': 40.0,\n",
                            " 'word_count': 9,\n",
                            " 'avg_word_length': 3.2222222222222223,\n",
                            " 'text_length': 40,\n",
                            " 'stop_words_count': 6,\n",
                            " 'punctuation_count': 2,\n",
                            " 'special_chars_count': 0,\n",
                            " 'capital_letters_ratio': 0.034482758620689655,\n",
                            " 'regex_match_count': 1,\n",
                            " 'email_count': 0,\n",
                            " 'link_count': 0,\n",
                            " 'hashtag_count': 0,\n",
                            " 'mention_count': 0,\n",
                            " 'syllable_count': 9,\n",
                            " 'acronym_count': 0,\n",
                            " 'date_count': 0,\n",
                            " 'number_of_good_in_text': 1}"
                        ]
                    },
                    "execution_count": 6,
                    "metadata": {},
                    "output_type": "execute_result"
                }
            ],
            "source": [
                "from elemeta.nlp.extractors.high_level.regex_match_count import RegexMatchCount\n",
                "\n",
                "number_of_good_in_text = RegexMatchCount(name=\"number_of_good_in_text\",regex=\"good|Good\")\n",
                "metafeature_extractors_runner.add_metafeature_extractor(number_of_good_in_text)\n",
                "metafeature_extractors_runner.run(\"This is a text about how good life is :)\")"
            ]
        },
        {
            "cell_type": "markdown",
            "metadata": {},
            "source": [
                "To run the extractors on all the columns on dataframe we can use `run_on_dataframe(dataframe: DataFrame, text_column: str) -> DataFrame`\n",
                "using this funtion we can supply a dataframe and the name of the text column and as return the funtion will return new dataframe with all the metafeature values as new columns"
            ]
        },
        {
            "cell_type": "code",
            "execution_count": null,
            "metadata": {
                "tags": []
            },
            "outputs": [],
            "source": [
                "from elemeta.dataset.dataset import get_avengers_endgame_tweets\n",
                "tweets = get_avengers_endgame_tweets()\n",
                "print(\"The original dataset had {} columns\".format(tweets.shape[1]))\n",
                "\n",
                "# The enrichment process\n",
                "print(\"Processing...\")\n",
                "\n",
                "# Running on all the data should take around a minute\n",
                "tweets = metafeature_extractors_runner.run_on_dataframe(dataframe=tweets,text_column='text')\n",
                "print(\"The transformed dataset has {} columns\".format(tweets.shape[1]))"
            ]
        },
        {
            "cell_type": "code",
            "execution_count": 8,
            "metadata": {
                "tags": []
            },
            "outputs": [
                {
                    "data": {
                        "text/html": [
                            "<div>\n",
                            "<style scoped>\n",
                            "    .dataframe tbody tr th:only-of-type {\n",
                            "        vertical-align: middle;\n",
                            "    }\n",
                            "\n",
                            "    .dataframe tbody tr th {\n",
                            "        vertical-align: top;\n",
                            "    }\n",
                            "\n",
                            "    .dataframe thead th {\n",
                            "        text-align: right;\n",
                            "    }\n",
                            "</style>\n",
                            "<table border=\"1\" class=\"dataframe\">\n",
                            "  <thead>\n",
                            "    <tr style=\"text-align: right;\">\n",
                            "      <th></th>\n",
                            "      <th>id</th>\n",
                            "      <th>text</th>\n",
                            "      <th>favorited</th>\n",
                            "      <th>favoriteCount</th>\n",
                            "      <th>replyToSN</th>\n",
                            "      <th>created</th>\n",
                            "      <th>truncated</th>\n",
                            "      <th>replyToSID</th>\n",
                            "      <th>id.1</th>\n",
                            "      <th>replyToUID</th>\n",
                            "      <th>...</th>\n",
                            "      <th>capital_letters_ratio</th>\n",
                            "      <th>regex_match_count</th>\n",
                            "      <th>email_count</th>\n",
                            "      <th>link_count</th>\n",
                            "      <th>hashtag_count</th>\n",
                            "      <th>mention_count</th>\n",
                            "      <th>syllable_count</th>\n",
                            "      <th>acronym_count</th>\n",
                            "      <th>date_count</th>\n",
                            "      <th>number_of_good_in_text</th>\n",
                            "    </tr>\n",
                            "  </thead>\n",
                            "  <tbody>\n",
                            "    <tr>\n",
                            "      <th>0</th>\n",
                            "      <td>1</td>\n",
                            "      <td>RT @mrvelstan: literally nobody:\\r\\nme:\\r\\n\\r\\...</td>\n",
                            "      <td>False</td>\n",
                            "      <td>0</td>\n",
                            "      <td>NaN</td>\n",
                            "      <td>2019-04-23 10:43:30</td>\n",
                            "      <td>False</td>\n",
                            "      <td>NaN</td>\n",
                            "      <td>1120639328034676737</td>\n",
                            "      <td>NaN</td>\n",
                            "      <td>...</td>\n",
                            "      <td>0.135593</td>\n",
                            "      <td>4</td>\n",
                            "      <td>0</td>\n",
                            "      <td>0</td>\n",
                            "      <td>1</td>\n",
                            "      <td>1</td>\n",
                            "      <td>16</td>\n",
                            "      <td>1</td>\n",
                            "      <td>0</td>\n",
                            "      <td>0</td>\n",
                            "    </tr>\n",
                            "    <tr>\n",
                            "      <th>1</th>\n",
                            "      <td>2</td>\n",
                            "      <td>RT @agntecarter: iï¿½m emotional, sorry!!\\r\\n\\...</td>\n",
                            "      <td>False</td>\n",
                            "      <td>0</td>\n",
                            "      <td>NaN</td>\n",
                            "      <td>2019-04-23 10:43:30</td>\n",
                            "      <td>False</td>\n",
                            "      <td>NaN</td>\n",
                            "      <td>1120639325199196160</td>\n",
                            "      <td>NaN</td>\n",
                            "      <td>...</td>\n",
                            "      <td>0.056338</td>\n",
                            "      <td>5</td>\n",
                            "      <td>0</td>\n",
                            "      <td>0</td>\n",
                            "      <td>2</td>\n",
                            "      <td>1</td>\n",
                            "      <td>25</td>\n",
                            "      <td>1</td>\n",
                            "      <td>2</td>\n",
                            "      <td>0</td>\n",
                            "    </tr>\n",
                            "    <tr>\n",
                            "      <th>2</th>\n",
                            "      <td>3</td>\n",
                            "      <td>saving these bingo cards for tomorrow \\r\\nï¿½\\...</td>\n",
                            "      <td>False</td>\n",
                            "      <td>0</td>\n",
                            "      <td>NaN</td>\n",
                            "      <td>2019-04-23 10:43:30</td>\n",
                            "      <td>False</td>\n",
                            "      <td>NaN</td>\n",
                            "      <td>1120639324683292674</td>\n",
                            "      <td>NaN</td>\n",
                            "      <td>...</td>\n",
                            "      <td>0.062500</td>\n",
                            "      <td>3</td>\n",
                            "      <td>0</td>\n",
                            "      <td>0</td>\n",
                            "      <td>1</td>\n",
                            "      <td>0</td>\n",
                            "      <td>16</td>\n",
                            "      <td>1</td>\n",
                            "      <td>0</td>\n",
                            "      <td>0</td>\n",
                            "    </tr>\n",
                            "    <tr>\n",
                            "      <th>3</th>\n",
                            "      <td>4</td>\n",
                            "      <td>RT @HelloBoon: Man these #AvengersEndgame ads ...</td>\n",
                            "      <td>False</td>\n",
                            "      <td>0</td>\n",
                            "      <td>NaN</td>\n",
                            "      <td>2019-04-23 10:43:29</td>\n",
                            "      <td>False</td>\n",
                            "      <td>NaN</td>\n",
                            "      <td>1120639323328540672</td>\n",
                            "      <td>NaN</td>\n",
                            "      <td>...</td>\n",
                            "      <td>0.166667</td>\n",
                            "      <td>1</td>\n",
                            "      <td>0</td>\n",
                            "      <td>0</td>\n",
                            "      <td>1</td>\n",
                            "      <td>1</td>\n",
                            "      <td>18</td>\n",
                            "      <td>2</td>\n",
                            "      <td>0</td>\n",
                            "      <td>0</td>\n",
                            "    </tr>\n",
                            "    <tr>\n",
                            "      <th>4</th>\n",
                            "      <td>5</td>\n",
                            "      <td>RT @Marvel: We salute you, @ChrisEvans! #Capta...</td>\n",
                            "      <td>False</td>\n",
                            "      <td>0</td>\n",
                            "      <td>NaN</td>\n",
                            "      <td>2019-04-23 10:43:29</td>\n",
                            "      <td>False</td>\n",
                            "      <td>NaN</td>\n",
                            "      <td>1120639321571074048</td>\n",
                            "      <td>NaN</td>\n",
                            "      <td>...</td>\n",
                            "      <td>0.197368</td>\n",
                            "      <td>1</td>\n",
                            "      <td>0</td>\n",
                            "      <td>0</td>\n",
                            "      <td>2</td>\n",
                            "      <td>2</td>\n",
                            "      <td>18</td>\n",
                            "      <td>2</td>\n",
                            "      <td>0</td>\n",
                            "      <td>0</td>\n",
                            "    </tr>\n",
                            "    <tr>\n",
                            "      <th>...</th>\n",
                            "      <td>...</td>\n",
                            "      <td>...</td>\n",
                            "      <td>...</td>\n",
                            "      <td>...</td>\n",
                            "      <td>...</td>\n",
                            "      <td>...</td>\n",
                            "      <td>...</td>\n",
                            "      <td>...</td>\n",
                            "      <td>...</td>\n",
                            "      <td>...</td>\n",
                            "      <td>...</td>\n",
                            "      <td>...</td>\n",
                            "      <td>...</td>\n",
                            "      <td>...</td>\n",
                            "      <td>...</td>\n",
                            "      <td>...</td>\n",
                            "      <td>...</td>\n",
                            "      <td>...</td>\n",
                            "      <td>...</td>\n",
                            "      <td>...</td>\n",
                            "      <td>...</td>\n",
                            "    </tr>\n",
                            "    <tr>\n",
                            "      <th>14995</th>\n",
                            "      <td>14996</td>\n",
                            "      <td>RT @natsdany: First time                  Last...</td>\n",
                            "      <td>False</td>\n",
                            "      <td>0</td>\n",
                            "      <td>NaN</td>\n",
                            "      <td>2019-04-23 09:22:03</td>\n",
                            "      <td>False</td>\n",
                            "      <td>NaN</td>\n",
                            "      <td>1120618828918951937</td>\n",
                            "      <td>NaN</td>\n",
                            "      <td>...</td>\n",
                            "      <td>0.068966</td>\n",
                            "      <td>5</td>\n",
                            "      <td>0</td>\n",
                            "      <td>0</td>\n",
                            "      <td>1</td>\n",
                            "      <td>1</td>\n",
                            "      <td>16</td>\n",
                            "      <td>1</td>\n",
                            "      <td>0</td>\n",
                            "      <td>0</td>\n",
                            "    </tr>\n",
                            "    <tr>\n",
                            "      <th>14996</th>\n",
                            "      <td>14997</td>\n",
                            "      <td>RT @MTVNEWS: The #AvengersEndgame cast has see...</td>\n",
                            "      <td>False</td>\n",
                            "      <td>0</td>\n",
                            "      <td>NaN</td>\n",
                            "      <td>2019-04-23 09:22:03</td>\n",
                            "      <td>False</td>\n",
                            "      <td>NaN</td>\n",
                            "      <td>1120618828038311936</td>\n",
                            "      <td>NaN</td>\n",
                            "      <td>...</td>\n",
                            "      <td>0.137615</td>\n",
                            "      <td>1</td>\n",
                            "      <td>0</td>\n",
                            "      <td>0</td>\n",
                            "      <td>1</td>\n",
                            "      <td>2</td>\n",
                            "      <td>30</td>\n",
                            "      <td>2</td>\n",
                            "      <td>0</td>\n",
                            "      <td>0</td>\n",
                            "    </tr>\n",
                            "    <tr>\n",
                            "      <th>14997</th>\n",
                            "      <td>14998</td>\n",
                            "      <td>@SPICinemas kindly announce the approximate ti...</td>\n",
                            "      <td>False</td>\n",
                            "      <td>0</td>\n",
                            "      <td>SPICinemas</td>\n",
                            "      <td>2019-04-23 09:22:02</td>\n",
                            "      <td>False</td>\n",
                            "      <td>NaN</td>\n",
                            "      <td>1120618823667920896</td>\n",
                            "      <td>919079586.0</td>\n",
                            "      <td>...</td>\n",
                            "      <td>0.084034</td>\n",
                            "      <td>2</td>\n",
                            "      <td>0</td>\n",
                            "      <td>0</td>\n",
                            "      <td>2</td>\n",
                            "      <td>2</td>\n",
                            "      <td>29</td>\n",
                            "      <td>0</td>\n",
                            "      <td>0</td>\n",
                            "      <td>0</td>\n",
                            "    </tr>\n",
                            "    <tr>\n",
                            "      <th>14998</th>\n",
                            "      <td>14999</td>\n",
                            "      <td>RT @Marvel: We salute you, @ChrisEvans! #Capta...</td>\n",
                            "      <td>False</td>\n",
                            "      <td>0</td>\n",
                            "      <td>NaN</td>\n",
                            "      <td>2019-04-23 09:22:02</td>\n",
                            "      <td>False</td>\n",
                            "      <td>NaN</td>\n",
                            "      <td>1120618823600803840</td>\n",
                            "      <td>NaN</td>\n",
                            "      <td>...</td>\n",
                            "      <td>0.197368</td>\n",
                            "      <td>1</td>\n",
                            "      <td>0</td>\n",
                            "      <td>0</td>\n",
                            "      <td>2</td>\n",
                            "      <td>2</td>\n",
                            "      <td>18</td>\n",
                            "      <td>2</td>\n",
                            "      <td>0</td>\n",
                            "      <td>0</td>\n",
                            "    </tr>\n",
                            "    <tr>\n",
                            "      <th>14999</th>\n",
                            "      <td>15000</td>\n",
                            "      <td>RT @Avengers: Welcome to the party, @RobertDow...</td>\n",
                            "      <td>False</td>\n",
                            "      <td>0</td>\n",
                            "      <td>NaN</td>\n",
                            "      <td>2019-04-23 09:22:01</td>\n",
                            "      <td>False</td>\n",
                            "      <td>NaN</td>\n",
                            "      <td>1120618822300569601</td>\n",
                            "      <td>NaN</td>\n",
                            "      <td>...</td>\n",
                            "      <td>0.187500</td>\n",
                            "      <td>1</td>\n",
                            "      <td>0</td>\n",
                            "      <td>0</td>\n",
                            "      <td>2</td>\n",
                            "      <td>2</td>\n",
                            "      <td>18</td>\n",
                            "      <td>2</td>\n",
                            "      <td>0</td>\n",
                            "      <td>0</td>\n",
                            "    </tr>\n",
                            "  </tbody>\n",
                            "</table>\n",
                            "<p>15000 rows × 43 columns</p>\n",
                            "</div>"
                        ],
                        "text/plain": [
                            "          id                                               text  favorited  \\\n",
                            "0          1  RT @mrvelstan: literally nobody:\\r\\nme:\\r\\n\\r\\...      False   \n",
                            "1          2  RT @agntecarter: iï¿½m emotional, sorry!!\\r\\n\\...      False   \n",
                            "2          3  saving these bingo cards for tomorrow \\r\\nï¿½\\...      False   \n",
                            "3          4  RT @HelloBoon: Man these #AvengersEndgame ads ...      False   \n",
                            "4          5  RT @Marvel: We salute you, @ChrisEvans! #Capta...      False   \n",
                            "...      ...                                                ...        ...   \n",
                            "14995  14996  RT @natsdany: First time                  Last...      False   \n",
                            "14996  14997  RT @MTVNEWS: The #AvengersEndgame cast has see...      False   \n",
                            "14997  14998  @SPICinemas kindly announce the approximate ti...      False   \n",
                            "14998  14999  RT @Marvel: We salute you, @ChrisEvans! #Capta...      False   \n",
                            "14999  15000  RT @Avengers: Welcome to the party, @RobertDow...      False   \n",
                            "\n",
                            "       favoriteCount   replyToSN              created  truncated  replyToSID  \\\n",
                            "0                  0         NaN  2019-04-23 10:43:30      False         NaN   \n",
                            "1                  0         NaN  2019-04-23 10:43:30      False         NaN   \n",
                            "2                  0         NaN  2019-04-23 10:43:30      False         NaN   \n",
                            "3                  0         NaN  2019-04-23 10:43:29      False         NaN   \n",
                            "4                  0         NaN  2019-04-23 10:43:29      False         NaN   \n",
                            "...              ...         ...                  ...        ...         ...   \n",
                            "14995              0         NaN  2019-04-23 09:22:03      False         NaN   \n",
                            "14996              0         NaN  2019-04-23 09:22:03      False         NaN   \n",
                            "14997              0  SPICinemas  2019-04-23 09:22:02      False         NaN   \n",
                            "14998              0         NaN  2019-04-23 09:22:02      False         NaN   \n",
                            "14999              0         NaN  2019-04-23 09:22:01      False         NaN   \n",
                            "\n",
                            "                      id.1   replyToUID  ... capital_letters_ratio  \\\n",
                            "0      1120639328034676737          NaN  ...              0.135593   \n",
                            "1      1120639325199196160          NaN  ...              0.056338   \n",
                            "2      1120639324683292674          NaN  ...              0.062500   \n",
                            "3      1120639323328540672          NaN  ...              0.166667   \n",
                            "4      1120639321571074048          NaN  ...              0.197368   \n",
                            "...                    ...          ...  ...                   ...   \n",
                            "14995  1120618828918951937          NaN  ...              0.068966   \n",
                            "14996  1120618828038311936          NaN  ...              0.137615   \n",
                            "14997  1120618823667920896  919079586.0  ...              0.084034   \n",
                            "14998  1120618823600803840          NaN  ...              0.197368   \n",
                            "14999  1120618822300569601          NaN  ...              0.187500   \n",
                            "\n",
                            "      regex_match_count  email_count  link_count  hashtag_count  \\\n",
                            "0                     4            0           0              1   \n",
                            "1                     5            0           0              2   \n",
                            "2                     3            0           0              1   \n",
                            "3                     1            0           0              1   \n",
                            "4                     1            0           0              2   \n",
                            "...                 ...          ...         ...            ...   \n",
                            "14995                 5            0           0              1   \n",
                            "14996                 1            0           0              1   \n",
                            "14997                 2            0           0              2   \n",
                            "14998                 1            0           0              2   \n",
                            "14999                 1            0           0              2   \n",
                            "\n",
                            "       mention_count  syllable_count  acronym_count  date_count  \\\n",
                            "0                  1              16              1           0   \n",
                            "1                  1              25              1           2   \n",
                            "2                  0              16              1           0   \n",
                            "3                  1              18              2           0   \n",
                            "4                  2              18              2           0   \n",
                            "...              ...             ...            ...         ...   \n",
                            "14995              1              16              1           0   \n",
                            "14996              2              30              2           0   \n",
                            "14997              2              29              0           0   \n",
                            "14998              2              18              2           0   \n",
                            "14999              2              18              2           0   \n",
                            "\n",
                            "       number_of_good_in_text  \n",
                            "0                           0  \n",
                            "1                           0  \n",
                            "2                           0  \n",
                            "3                           0  \n",
                            "4                           0  \n",
                            "...                       ...  \n",
                            "14995                       0  \n",
                            "14996                       0  \n",
                            "14997                       0  \n",
                            "14998                       0  \n",
                            "14999                       0  \n",
                            "\n",
                            "[15000 rows x 43 columns]"
                        ]
                    },
                    "execution_count": 8,
                    "metadata": {},
                    "output_type": "execute_result"
                }
            ],
            "source": [
                "tweets"
            ]
        },
        {
            "cell_type": "code",
            "execution_count": null,
            "metadata": {},
            "outputs": [],
            "source": []
        }
    ],
    "metadata": {
        "colab": {
            "authorship_tag": "ABX9TyPLkytBSVbuhdxnmUw+F3CU",
            "provenance": []
        },
        "kernelspec": {
            "display_name": "elemeta",
            "language": "python",
            "name": "elemeta"
        },
        "language_info": {
            "codemirror_mode": {
                "name": "ipython",
                "version": 3
            },
            "file_extension": ".py",
            "mimetype": "text/x-python",
            "name": "python",
            "nbconvert_exporter": "python",
            "pygments_lexer": "ipython3",
            "version": "3.8.16"
        }
    },
    "nbformat": 4,
    "nbformat_minor": 4
}
