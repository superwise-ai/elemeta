{
 "cells": [
  {
   "cell_type": "markdown",
   "id": "F2DTfzbt8ON-",
   "metadata": {
    "id": "F2DTfzbt8ON-"
   },
   "source": [
    "<img src=https://raw.githubusercontent.com/superwise-ai/elemeta/54825ed11287ac69d809a4590749d6b63404dd1d/docs/images/elemeta_cover_image_white_narrow.png alt=\"Elemeta\">"
   ]
  },
  {
   "cell_type": "markdown",
   "id": "b28df9b2-4974-4569-bee6-b0cd65cbd7d5",
   "metadata": {
    "id": "b28df9b2-4974-4569-bee6-b0cd65cbd7d5"
   },
   "source": [
    "### Create a custom metafeature extractor\n",
    "\n",
    "This notebook demonstrates how to create a custom metafeature extractor."
   ]
  },
  {
   "cell_type": "code",
   "execution_count": 1,
   "id": "2afd156a",
   "metadata": {
    "id": "2afd156a",
    "outputId": "705267c0-7831-4a79-b790-68ee79ad11d6"
   },
   "outputs": [
    {
     "name": "stdout",
     "output_type": "stream",
     "text": [
      "\n",
      "\u001b[1m[\u001b[0m\u001b[34;49mnotice\u001b[0m\u001b[1;39;49m]\u001b[0m\u001b[39;49m A new release of pip available: \u001b[0m\u001b[31;49m22.3.1\u001b[0m\u001b[39;49m -> \u001b[0m\u001b[32;49m23.1.1\u001b[0m\n",
      "\u001b[1m[\u001b[0m\u001b[34;49mnotice\u001b[0m\u001b[1;39;49m]\u001b[0m\u001b[39;49m To update, run: \u001b[0m\u001b[32;49mpip install --upgrade pip\u001b[0m\n"
     ]
    }
   ],
   "source": [
    "!pip install elemeta > /dev/null"
   ]
  },
  {
   "cell_type": "markdown",
   "id": "0086c55c-8f8d-499a-937e-ee2f7e8f6926",
   "metadata": {
    "id": "0086c55c-8f8d-499a-937e-ee2f7e8f6926"
   },
   "source": [
    "It is possible to create your own MetafeatureExtractor to fit you needs, you can do this by implementing the abstract class `AbstractTextMetafeatureExtractor`"
   ]
  },
  {
   "cell_type": "code",
   "execution_count": 2,
   "id": "c85c25ad-291d-4b77-9ce5-1474b3433c61",
   "metadata": {
    "id": "c85c25ad-291d-4b77-9ce5-1474b3433c61",
    "tags": []
   },
   "outputs": [],
   "source": [
    "from elemeta.nlp.extractors.low_level.abstract_text_metafeature_extractor import AbstractTextMetafeatureExtractor"
   ]
  },
  {
   "cell_type": "code",
   "execution_count": 3,
   "id": "75b20c77-9cf4-41d2-8bb1-a712ffa3294b",
   "metadata": {
    "id": "75b20c77-9cf4-41d2-8bb1-a712ffa3294b",
    "tags": []
   },
   "outputs": [],
   "source": [
    "class IsPlindromExtractor(AbstractTextMetafeatureExtractor):\n",
    "    def extract(self, text: str) -> bool:\n",
    "        normalized_text = text.replace(\" \", \"\").lower()\n",
    "        return normalized_text == normalized_text[::-1]"
   ]
  },
  {
   "cell_type": "code",
   "execution_count": 4,
   "id": "eb05148d-bad9-4b26-beb7-b5137a11de50",
   "metadata": {
    "id": "eb05148d-bad9-4b26-beb7-b5137a11de50",
    "tags": []
   },
   "outputs": [],
   "source": [
    "ipe = IsPlindromExtractor()"
   ]
  },
  {
   "cell_type": "code",
   "execution_count": 5,
   "id": "9fe1394c-0bdd-4e20-ad7f-ef7639404e45",
   "metadata": {
    "id": "9fe1394c-0bdd-4e20-ad7f-ef7639404e45",
    "outputId": "eea441dd-b55f-4c29-90d4-4f989ffde4da",
    "tags": []
   },
   "outputs": [
    {
     "data": {
      "text/plain": [
       "False"
      ]
     },
     "execution_count": 5,
     "metadata": {},
     "output_type": "execute_result"
    }
   ],
   "source": [
    "ipe(\"cat\")"
   ]
  },
  {
   "cell_type": "code",
   "execution_count": 6,
   "id": "92a5881c-e39b-4e03-a325-700e3d1a5eb2",
   "metadata": {
    "id": "92a5881c-e39b-4e03-a325-700e3d1a5eb2",
    "outputId": "c5911f7a-ef25-4931-f4f7-d40c22d5053a",
    "tags": []
   },
   "outputs": [
    {
     "data": {
      "text/plain": [
       "True"
      ]
     },
     "execution_count": 6,
     "metadata": {},
     "output_type": "execute_result"
    }
   ],
   "source": [
    "ipe(\"taco cat\")"
   ]
  },
  {
   "cell_type": "markdown",
   "id": "9d2fb643-afb8-4d86-9d3f-b3835c57df67",
   "metadata": {
    "id": "9d2fb643-afb8-4d86-9d3f-b3835c57df67"
   },
   "source": [
    "Now you can easily use it and add it your `MetafeatureExtractorRunner`"
   ]
  },
  {
   "cell_type": "code",
   "execution_count": 7,
   "id": "10ddee19-c8ef-4193-863a-0b4d65efc824",
   "metadata": {
    "id": "10ddee19-c8ef-4193-863a-0b4d65efc824",
    "tags": []
   },
   "outputs": [],
   "source": [
    "from elemeta.nlp.runners.metafeature_extractors_runner import MetafeatureExtractorsRunner\n",
    "\n",
    "metafeature_extractors_runner = MetafeatureExtractorsRunner()\n",
    "metafeature_extractors_runner.add_metafeature_extractor(ipe)"
   ]
  },
  {
   "cell_type": "code",
   "execution_count": 8,
   "id": "3551dd48-240a-46b6-8f5e-b5c74984e2d0",
   "metadata": {
    "id": "3551dd48-240a-46b6-8f5e-b5c74984e2d0",
    "outputId": "2d937b2c-03b1-4d6c-aa6b-bef1b512eba1",
    "tags": []
   },
   "outputs": [
    {
     "data": {
      "text/plain": [
       "{'emoji_count': 0,\n",
       " 'text_complexity': 92.8,\n",
       " 'unique_word_ratio': 1.0,\n",
       " 'unique_word_count': 4,\n",
       " 'word_regex_matches_count': 4,\n",
       " 'number_count': 0,\n",
       " 'out_of_vocabulary_count': 0,\n",
       " 'must_appear_words_percentage': 0,\n",
       " 'sentence_count': 1,\n",
       " 'sentence_avg_length': 17.0,\n",
       " 'word_count': 4,\n",
       " 'avg_word_length': 3.5,\n",
       " 'text_length': 17,\n",
       " 'stop_words_count': 1,\n",
       " 'punctuation_count': 0,\n",
       " 'special_chars_count': 0,\n",
       " 'capital_letters_ratio': 0.07142857142857142,\n",
       " 'regex_match_count': 1,\n",
       " 'email_count': 0,\n",
       " 'link_count': 0,\n",
       " 'hashtag_count': 0,\n",
       " 'mention_count': 0,\n",
       " 'syllable_count': 5,\n",
       " 'acronym_count': 0,\n",
       " 'date_count': 0,\n",
       " 'is_plindrom_extractor': True}"
      ]
     },
     "execution_count": 8,
     "metadata": {},
     "output_type": "execute_result"
    }
   ],
   "source": [
    "metafeature_extractors_runner.run(\"Never odd or even\")"
   ]
  },
  {
   "cell_type": "code",
   "execution_count": 9,
   "id": "6cfca2ee-803d-4730-994b-f094c78403e6",
   "metadata": {
    "id": "6cfca2ee-803d-4730-994b-f094c78403e6",
    "outputId": "457b0abc-17eb-4129-aea9-e4def0283fef",
    "tags": []
   },
   "outputs": [
    {
     "data": {
      "text/plain": [
       "{'emoji_count': 0,\n",
       " 'text_complexity': 119.19,\n",
       " 'unique_word_ratio': 1.0,\n",
       " 'unique_word_count': 3,\n",
       " 'word_regex_matches_count': 3,\n",
       " 'number_count': 0,\n",
       " 'out_of_vocabulary_count': 1,\n",
       " 'must_appear_words_percentage': 0,\n",
       " 'sentence_count': 1,\n",
       " 'sentence_avg_length': 11.0,\n",
       " 'word_count': 3,\n",
       " 'avg_word_length': 3.0,\n",
       " 'text_length': 11,\n",
       " 'stop_words_count': 1,\n",
       " 'punctuation_count': 0,\n",
       " 'special_chars_count': 0,\n",
       " 'capital_letters_ratio': 0.1111111111111111,\n",
       " 'regex_match_count': 1,\n",
       " 'email_count': 0,\n",
       " 'link_count': 0,\n",
       " 'hashtag_count': 0,\n",
       " 'mention_count': 0,\n",
       " 'syllable_count': 3,\n",
       " 'acronym_count': 1,\n",
       " 'date_count': 0,\n",
       " 'is_plindrom_extractor': False}"
      ]
     },
     "execution_count": 9,
     "metadata": {},
     "output_type": "execute_result"
    }
   ],
   "source": [
    "metafeature_extractors_runner.run(\"I love cats\")"
   ]
  },
  {
   "cell_type": "code",
   "execution_count": null,
   "id": "6ecce9a8-01e8-4381-a04c-58116851740a",
   "metadata": {
    "id": "6ecce9a8-01e8-4381-a04c-58116851740a"
   },
   "outputs": [],
   "source": []
  }
 ],
 "metadata": {
  "colab": {
   "provenance": []
  },
  "kernelspec": {
   "display_name": "Python 3 (ipykernel)",
   "language": "python",
   "name": "python3"
  },
  "language_info": {
   "codemirror_mode": {
    "name": "ipython",
    "version": 3
   },
   "file_extension": ".py",
   "mimetype": "text/x-python",
   "name": "python",
   "nbconvert_exporter": "python",
   "pygments_lexer": "ipython3",
   "version": "3.8.16"
  }
 },
 "nbformat": 4,
 "nbformat_minor": 5
}
