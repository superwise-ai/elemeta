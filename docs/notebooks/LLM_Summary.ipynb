{
 "cells": [
  {
   "cell_type": "code",
   "execution_count": 1,
   "metadata": {},
   "outputs": [
    {
     "name": "stdout",
     "output_type": "stream",
     "text": [
      "\n",
      "\u001b[1m[\u001b[0m\u001b[34;49mnotice\u001b[0m\u001b[1;39;49m]\u001b[0m\u001b[39;49m A new release of pip is available: \u001b[0m\u001b[31;49m23.1.2\u001b[0m\u001b[39;49m -> \u001b[0m\u001b[32;49m23.3.2\u001b[0m\n",
      "\u001b[1m[\u001b[0m\u001b[34;49mnotice\u001b[0m\u001b[1;39;49m]\u001b[0m\u001b[39;49m To update, run: \u001b[0m\u001b[32;49mpip install --upgrade pip\u001b[0m\n"
     ]
    }
   ],
   "source": [
    "!pip install --quiet elemeta openai"
   ]
  },
  {
   "cell_type": "code",
   "execution_count": 2,
   "metadata": {},
   "outputs": [],
   "source": [
    "import pandas as pd\n",
    "from openai import OpenAI\n",
    "import numpy as np"
   ]
  },
  {
   "cell_type": "code",
   "execution_count": 3,
   "metadata": {},
   "outputs": [],
   "source": [
    "# defaults to getting the key using os.environ.get(\"OPENAI_API_KEY\")\n",
    "# if you saved the key under a different environment variable name, you can do something like:\n",
    "# client = OpenAI(\n",
    "#   api_key=os.environ.get(\"CUSTOM_ENV_NAME\"),\n",
    "# )\n",
    "client = OpenAI()"
   ]
  },
  {
   "cell_type": "code",
   "execution_count": 4,
   "metadata": {},
   "outputs": [],
   "source": [
    "def ask_gpt(messages,model=\"gpt-4\"):\n",
    "    ret =  client.chat.completions.create(model=model,\n",
    "                                          messages=messages\n",
    "                                          )\n",
    "    return ret.choices[0].message.content"
   ]
  },
  {
   "cell_type": "markdown",
   "metadata": {},
   "source": [
    "# The following example is taken from https://platform.openai.com/examples/default-meeting-notes-summarizer"
   ]
  },
  {
   "cell_type": "code",
   "execution_count": 5,
   "metadata": {},
   "outputs": [
    {
     "data": {
      "text/plain": [
       "'The meeting on March 5th, 2050 was attended by Captain Stardust, Dr. Quasar, Lady Nebula, Sir Supernova, and new team member Ms. Comet. The mission to Planet Zog was discussed with identified need for improvement in language skills and a suggestion to celebrate with a Zogian food night. The space pirate issue in sector 7 was addressed, with plans to increase patrols and develop new cloaking technology. The team reviewed their second-place performance at the annual Intergalactic Bake-Off and started planning for the upcoming charity fundraiser. Ms. Comet suggested a team-building retreat to the Moon Resort and Spa. Next meeting agenda items include Zogian-English dictionary update, cloaking technology progress, Sector 7 patrol results, and charity bazaar preparations. The next meeting is scheduled for March 19th, 2050.'"
      ]
     },
     "execution_count": 5,
     "metadata": {},
     "output_type": "execute_result"
    }
   ],
   "source": [
    "\n",
    "summary_system_prompt=\"\"\"You will be provided with meeting notes, and your task is to summarize the meeting\"\"\"\n",
    "\n",
    "summary_input_prompt =\"\"\"Meeting Date: March 5th, 2050\n",
    "Meeting Time: 2:00 PM\n",
    "Location: Conference Room 3B, Intergalactic Headquarters\n",
    "\n",
    "Attendees:\n",
    "- Captain Stardust\n",
    "- Dr. Quasar\n",
    "- Lady Nebula\n",
    "- Sir Supernova\n",
    "- Ms. Comet\n",
    "\n",
    "Meeting called to order by Captain Stardust at 2:05 PM\n",
    "\n",
    "1. Introductions and welcome to our newest team member, Ms. Comet\n",
    "\n",
    "2. Discussion of our recent mission to Planet Zog\n",
    "- Captain Stardust: \"Overall, a success, but communication with the Zogians was difficult. We need to improve our language skills.\"\n",
    "- Dr. Quasar: \"Agreed. I'll start working on a Zogian-English dictionary right away.\"\n",
    "- Lady Nebula: \"The Zogian food was out of this world, literally! We should consider having a Zogian food night on the ship.\"\n",
    "\n",
    "3. Addressing the space pirate issue in Sector 7\n",
    "- Sir Supernova: \"We need a better strategy for dealing with these pirates. They've already plundered three cargo ships this month.\"\n",
    "- Captain Stardust: \"I'll speak with Admiral Starbeam about increasing patrols in that area.\n",
    "- Dr. Quasar: \"I've been working on a new cloaking technology that could help our ships avoid detection by the pirates. I'll need a few more weeks to finalize the prototype.\"\n",
    "\n",
    "4. Review of the annual Intergalactic Bake-Off\n",
    "- Lady Nebula: \"I'm happy to report that our team placed second in the competition! Our Martian Mud Pie was a big hit!\"\n",
    "- Ms. Comet: \"Let's aim for first place next year. I have a secret recipe for Jupiter Jello that I think could be a winner.\"\n",
    "\n",
    "5. Planning for the upcoming charity fundraiser\n",
    "- Captain Stardust: \"We need some creative ideas for our booth at the Intergalactic Charity Bazaar.\"\n",
    "- Sir Supernova: \"How about a 'Dunk the Alien' game? We can have people throw water balloons at a volunteer dressed as an alien.\"\n",
    "- Dr. Quasar: \"I can set up a 'Name That Star' trivia game with prizes for the winners.\"\n",
    "- Lady Nebula: \"Great ideas, everyone. Let's start gathering the supplies and preparing the games.\"\n",
    "\n",
    "6. Upcoming team-building retreat\n",
    "- Ms. Comet: \"I would like to propose a team-building retreat to the Moon Resort and Spa. It's a great opportunity to bond and relax after our recent missions.\"\n",
    "- Captain Stardust: \"Sounds like a fantastic idea. I'll check the budget and see if we can make it happen.\"\n",
    "\n",
    "7. Next meeting agenda items\n",
    "- Update on the Zogian-English dictionary (Dr. Quasar)\n",
    "- Progress report on the cloaking technology (Dr. Quasar)\n",
    "- Results of increased patrols in Sector 7 (Captain Stardust)\n",
    "- Final preparations for the Intergalactic Charity Bazaar (All)\n",
    "\n",
    "Meeting adjourned at 3:15 PM. Next meeting scheduled for March 19th, 2050 at 2:00 PM in Conference Room 3B, Intergalactic Headquarters.\"\"\"\n",
    "\n",
    "messages=[\n",
    "    {\"role\": \"system\", \"content\": summary_system_prompt},\n",
    "\n",
    "    {\"role\": \"user\", \"content\": summary_input_prompt}\n",
    "  ]\n",
    "summary = ask_gpt(messages)\n",
    "summary"
   ]
  },
  {
   "cell_type": "markdown",
   "metadata": {},
   "source": [
    "In summarization we care mostly about length and coplexity, these give us a notion of how much we managed to trim excess text and how easy it is to understand together they quantify a notion of brevity.\n",
    "\n",
    "We will create a custom Extractor Runner that extracts both the text's length and complexity."
   ]
  },
  {
   "cell_type": "code",
   "execution_count": 6,
   "metadata": {},
   "outputs": [],
   "source": [
    "from elemeta.nlp.extractors.high_level.text_length import TextLength\n",
    "from elemeta.nlp.extractors.high_level.text_complexity import TextComplexity\n",
    "from elemeta.nlp.runners.metafeature_extractors_runner import MetafeatureExtractorsRunner\n",
    "summary_extractors_runner = MetafeatureExtractorsRunner(metafeature_extractors=[TextLength(),TextComplexity()])"
   ]
  },
  {
   "cell_type": "code",
   "execution_count": 7,
   "metadata": {},
   "outputs": [
    {
     "data": {
      "text/plain": [
       "{'text_length': 2635, 'text_complexity': 67.04}"
      ]
     },
     "execution_count": 7,
     "metadata": {},
     "output_type": "execute_result"
    }
   ],
   "source": [
    "summary_extractors_runner.run(summary_input_prompt)"
   ]
  },
  {
   "cell_type": "code",
   "execution_count": 8,
   "metadata": {},
   "outputs": [
    {
     "data": {
      "text/plain": [
       "{'text_length': 829, 'text_complexity': 46.98}"
      ]
     },
     "execution_count": 8,
     "metadata": {},
     "output_type": "execute_result"
    }
   ],
   "source": [
    "summary_extractors_runner.run(summary)"
   ]
  },
  {
   "cell_type": "markdown",
   "metadata": {},
   "source": [
    "# Lets try to changing the system prompt specifying that we want the summary to be simple and easy to read(to a 5 years old) and notice if the text complexity becomes higher(meaning it is concidered easier to read)."
   ]
  },
  {
   "cell_type": "code",
   "execution_count": 9,
   "metadata": {},
   "outputs": [
    {
     "data": {
      "text/plain": [
       "\"So, we all met in our cool space office and talked about a lot of things. First, we welcomed a new team member named Ms. Comet. Then we reflected on our trip to a planet called Zog. That trip was fun and successful but we learned that we need to understand their language better, and oh, we really liked their food and we want to have it in our space trip.\\n\\nLater, Sir Supernova said that the naughty space pirates in a place called Sector 7 have been stealing from us, so we talked about how we can make it harder for them to find us or maybe get more of our space friends to watch the area.\\n\\nWe also chatted about a big baking contest we took part in and guess what, our team won second place with a Martian Mud Pie. We can't wait for next year because we have a secret plan to win with a special recipe.\\n\\nAfter that, we looked into what we can do for a charity occasion. We liked the idea of people trying to dunk an alien in a water tank or maybe guessing the names of different stars to win prizes.\\n\\nThen, Ms. Comet suggested we all go on a fun retreat to the Moon Resort and Spa. We're going to see if we can afford it because it would be a fun way to relax after completing all our space missions.\\n\\nIn the end, we decided that we'll meet again soon to check up on how we’re doing with our space language learning, new hiding technology, keeping an eye on the space pirates, and preparing for the charity event.\""
      ]
     },
     "execution_count": 9,
     "metadata": {},
     "output_type": "execute_result"
    }
   ],
   "source": [
    "eli5_system_prompt=\"\"\"You will be provided with meeting notes, and your task is to summarize the meeting\n",
    "explain like im 5 years old\"\"\"\n",
    "messages=[\n",
    "    {\"role\": \"system\", \"content\": eli5_system_prompt},\n",
    "    {\"role\": \"user\", \"content\": summary_input_prompt}\n",
    "  ]\n",
    "eli5 = ask_gpt(messages)\n",
    "eli5"
   ]
  },
  {
   "cell_type": "code",
   "execution_count": 10,
   "metadata": {},
   "outputs": [
    {
     "data": {
      "text/plain": [
       "{'text_length': 1417, 'text_complexity': 73.21}"
      ]
     },
     "execution_count": 10,
     "metadata": {},
     "output_type": "execute_result"
    }
   ],
   "source": [
    "summary_extractors_runner.run(eli5)"
   ]
  },
  {
   "cell_type": "markdown",
   "metadata": {},
   "source": [
    "Lets order the output of the first summary and eli5 summary in 1 table(Dataframe) for an easier comparison"
   ]
  },
  {
   "cell_type": "code",
   "execution_count": 11,
   "metadata": {},
   "outputs": [
    {
     "data": {
      "text/html": [
       "<div>\n",
       "<style scoped>\n",
       "    .dataframe tbody tr th:only-of-type {\n",
       "        vertical-align: middle;\n",
       "    }\n",
       "\n",
       "    .dataframe tbody tr th {\n",
       "        vertical-align: top;\n",
       "    }\n",
       "\n",
       "    .dataframe thead th {\n",
       "        text-align: right;\n",
       "    }\n",
       "</style>\n",
       "<table border=\"1\" class=\"dataframe\">\n",
       "  <thead>\n",
       "    <tr style=\"text-align: right;\">\n",
       "      <th></th>\n",
       "      <th>text_length</th>\n",
       "      <th>text_complexity</th>\n",
       "    </tr>\n",
       "  </thead>\n",
       "  <tbody>\n",
       "    <tr>\n",
       "      <th>0</th>\n",
       "      <td>2635</td>\n",
       "      <td>67.04</td>\n",
       "    </tr>\n",
       "    <tr>\n",
       "      <th>1</th>\n",
       "      <td>829</td>\n",
       "      <td>46.98</td>\n",
       "    </tr>\n",
       "    <tr>\n",
       "      <th>2</th>\n",
       "      <td>1417</td>\n",
       "      <td>73.21</td>\n",
       "    </tr>\n",
       "  </tbody>\n",
       "</table>\n",
       "</div>"
      ],
      "text/plain": [
       "   text_length  text_complexity\n",
       "0         2635            67.04\n",
       "1          829            46.98\n",
       "2         1417            73.21"
      ]
     },
     "execution_count": 11,
     "metadata": {},
     "output_type": "execute_result"
    }
   ],
   "source": [
    "pd.DataFrame([\n",
    "    summary_extractors_runner.run(summary_input_prompt),\n",
    "    summary_extractors_runner.run(summary),\n",
    "    summary_extractors_runner.run(eli5)])"
   ]
  },
  {
   "cell_type": "markdown",
   "metadata": {},
   "source": [
    "We can see that the eli5 complexity went up meaning it is easier to read, and the text length is reasonably of the same magnitude compared to the original text."
   ]
  }
 ],
 "metadata": {
  "kernelspec": {
   "display_name": ".venv",
   "language": "python",
   "name": "python3"
  },
  "language_info": {
   "codemirror_mode": {
    "name": "ipython",
    "version": 3
   },
   "file_extension": ".py",
   "mimetype": "text/x-python",
   "name": "python",
   "nbconvert_exporter": "python",
   "pygments_lexer": "ipython3",
   "version": "3.11.1"
  }
 },
 "nbformat": 4,
 "nbformat_minor": 2
}
