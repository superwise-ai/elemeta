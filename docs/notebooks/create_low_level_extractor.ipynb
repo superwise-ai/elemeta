{
 "cells": [
  {
   "cell_type": "markdown",
   "id": "4ff1cdd7-766b-4d95-a5d0-5aa92a18363a",
   "metadata": {
    "tags": []
   },
   "source": [
    "<img src=https://raw.githubusercontent.com/superwise-ai/elemeta/54825ed11287ac69d809a4590749d6b63404dd1d/docs/images/elemeta_cover_image_white_narrow.png alt=\"Elemeta\">"
   ]
  },
  {
   "cell_type": "markdown",
   "id": "155f90f2-93ca-4e29-b914-24b7f1946e23",
   "metadata": {
    "tags": []
   },
   "source": [
    "### Low Level API Exporters"
   ]
  },
  {
   "cell_type": "code",
   "execution_count": 1,
   "id": "ffda66b0",
   "metadata": {},
   "outputs": [
    {
     "name": "stdout",
     "output_type": "stream",
     "text": [
      "\n",
      "\u001b[1m[\u001b[0m\u001b[34;49mnotice\u001b[0m\u001b[1;39;49m]\u001b[0m\u001b[39;49m A new release of pip available: \u001b[0m\u001b[31;49m22.3.1\u001b[0m\u001b[39;49m -> \u001b[0m\u001b[32;49m23.0.1\u001b[0m\n",
      "\u001b[1m[\u001b[0m\u001b[34;49mnotice\u001b[0m\u001b[1;39;49m]\u001b[0m\u001b[39;49m To update, run: \u001b[0m\u001b[32;49mpip install --upgrade pip\u001b[0m\n"
     ]
    }
   ],
   "source": [
    "!pip install elemeta > /dev/null"
   ]
  },
  {
   "cell_type": "markdown",
   "id": "cdf0afed-b575-4214-945a-9dfbb62af8be",
   "metadata": {
    "tags": []
   },
   "source": [
    "Low level API exporters are the exporters that not work \"out of the box\", you must supply addinial paramter(curntly most of the time you must supply tokinizer funtion)"
   ]
  },
  {
   "cell_type": "code",
   "execution_count": 2,
   "id": "98f48e52-5692-424a-bb21-cd1367ae52d9",
   "metadata": {
    "tags": []
   },
   "outputs": [],
   "source": [
    "from elemeta.nlp.extractors.low_level.avg_token_length import AvgTokenLength"
   ]
  },
  {
   "cell_type": "code",
   "execution_count": 3,
   "id": "274725ae-8e89-4fdf-a05b-9e48bbc237f6",
   "metadata": {
    "tags": []
   },
   "outputs": [],
   "source": [
    "my_simple_word_tokinzer = lambda text: text.split(\" \")\n",
    "my_simple_line_tokinzer = lambda text: text.split(\"\\n\")"
   ]
  },
  {
   "cell_type": "code",
   "execution_count": 4,
   "id": "a12be6f8-d5f0-4c10-b77e-e49dc1992f0f",
   "metadata": {
    "tags": []
   },
   "outputs": [],
   "source": [
    "text =\"\"\"Lorem Ipsum is simply dummy text of the printing and typesetting industry.\n",
    "Lorem Ipsum has been the industry's standard dummy text ever since the 1500s,\n",
    "when an unknown printer took a galley of type and scrambled it to make a type specimen book.\"\"\""
   ]
  },
  {
   "cell_type": "code",
   "execution_count": 5,
   "id": "4e8caff7-cf9c-42ff-9601-81f9aa7da1fa",
   "metadata": {
    "tags": []
   },
   "outputs": [
    {
     "data": {
      "text/plain": [
       "['Lorem',\n",
       " 'Ipsum',\n",
       " 'is',\n",
       " 'simply',\n",
       " 'dummy',\n",
       " 'text',\n",
       " 'of',\n",
       " 'the',\n",
       " 'printing',\n",
       " 'and',\n",
       " 'typesetting',\n",
       " 'industry.\\nLorem',\n",
       " 'Ipsum',\n",
       " 'has',\n",
       " 'been',\n",
       " 'the',\n",
       " \"industry's\",\n",
       " 'standard',\n",
       " 'dummy',\n",
       " 'text',\n",
       " 'ever',\n",
       " 'since',\n",
       " 'the',\n",
       " '1500s,\\nwhen',\n",
       " 'an',\n",
       " 'unknown',\n",
       " 'printer',\n",
       " 'took',\n",
       " 'a',\n",
       " 'galley',\n",
       " 'of',\n",
       " 'type',\n",
       " 'and',\n",
       " 'scrambled',\n",
       " 'it',\n",
       " 'to',\n",
       " 'make',\n",
       " 'a',\n",
       " 'type',\n",
       " 'specimen',\n",
       " 'book.']"
      ]
     },
     "execution_count": 5,
     "metadata": {},
     "output_type": "execute_result"
    }
   ],
   "source": [
    "my_simple_word_tokinzer(text)"
   ]
  },
  {
   "cell_type": "code",
   "execution_count": 6,
   "id": "fc74ab69-1a84-473c-ad8c-0636acfc2777",
   "metadata": {
    "tags": []
   },
   "outputs": [
    {
     "data": {
      "text/plain": [
       "['Lorem Ipsum is simply dummy text of the printing and typesetting industry.',\n",
       " \"Lorem Ipsum has been the industry's standard dummy text ever since the 1500s,\",\n",
       " 'when an unknown printer took a galley of type and scrambled it to make a type specimen book.']"
      ]
     },
     "execution_count": 6,
     "metadata": {},
     "output_type": "execute_result"
    }
   ],
   "source": [
    "my_simple_line_tokinzer(text)"
   ]
  },
  {
   "cell_type": "code",
   "execution_count": 7,
   "id": "6f40cd08-442d-4684-87ac-9e1c453680e2",
   "metadata": {
    "tags": []
   },
   "outputs": [],
   "source": [
    "atl_for_words = AvgTokenLength(tokenizer=my_simple_word_tokinzer)"
   ]
  },
  {
   "cell_type": "code",
   "execution_count": 8,
   "id": "040f1179-ec6f-4091-9762-955481a5b4f8",
   "metadata": {
    "tags": []
   },
   "outputs": [],
   "source": [
    "atl_for_lines = AvgTokenLength(tokenizer=my_simple_line_tokinzer)"
   ]
  },
  {
   "cell_type": "code",
   "execution_count": 9,
   "id": "2ce5fb44-6b58-4f79-8d1d-8129aa60f628",
   "metadata": {
    "tags": []
   },
   "outputs": [
    {
     "data": {
      "text/plain": [
       "5.0"
      ]
     },
     "execution_count": 9,
     "metadata": {},
     "output_type": "execute_result"
    }
   ],
   "source": [
    "atl_for_words(text)"
   ]
  },
  {
   "cell_type": "code",
   "execution_count": 10,
   "id": "241c69a4-1116-4e18-bb17-927eeea07d3a",
   "metadata": {
    "tags": []
   },
   "outputs": [
    {
     "data": {
      "text/plain": [
       "81.0"
      ]
     },
     "execution_count": 10,
     "metadata": {},
     "output_type": "execute_result"
    }
   ],
   "source": [
    "atl_for_lines(text)"
   ]
  },
  {
   "cell_type": "code",
   "execution_count": null,
   "id": "19538cdf-cdf3-48ee-9c16-7db862afac36",
   "metadata": {},
   "outputs": [],
   "source": []
  }
 ],
 "metadata": {
  "kernelspec": {
   "display_name": "Python 3 (ipykernel)",
   "language": "python",
   "name": "python3"
  },
  "language_info": {
   "codemirror_mode": {
    "name": "ipython",
    "version": 3
   },
   "file_extension": ".py",
   "mimetype": "text/x-python",
   "name": "python",
   "nbconvert_exporter": "python",
   "pygments_lexer": "ipython3",
   "version": "3.8.16"
  }
 },
 "nbformat": 4,
 "nbformat_minor": 5
}
