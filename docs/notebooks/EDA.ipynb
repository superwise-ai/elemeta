{
 "cells": [
  {
   "cell_type": "markdown",
   "id": "Gw4cbD9A--kc",
   "metadata": {
    "id": "Gw4cbD9A--kc"
   },
   "source": [
    "<img src=https://raw.githubusercontent.com/superwise-ai/elemeta/54825ed11287ac69d809a4590749d6b63404dd1d/docs/images/elemeta_cover_image_white_narrow.png alt=\"Elemeta\">"
   ]
  },
  {
   "cell_type": "markdown",
   "id": "0WVbjyKFwYEo",
   "metadata": {
    "id": "0WVbjyKFwYEo"
   },
   "source": [
    "# <a name=\"EDA\"></a>EDA - Exploratory Data Analysis\n",
    "This notebook will demonstrate how to use Elemeta for EDA. It will illustrates how extracted meta-features contain information that can be used to predict how many likes a tweet will receive.\n",
    "\n",
    "\n",
    "---"
   ]
  },
  {
   "cell_type": "code",
   "execution_count": null,
   "id": "f46c9ab9",
   "metadata": {
    "id": "f46c9ab9",
    "outputId": "feffb95d-c1cc-45f4-f53a-363330a34b8c"
   },
   "outputs": [],
   "source": [
    "!pip install elemeta\n",
    "!pip install matplotlib\n",
    "!pip install seaborn"
   ]
  },
  {
   "cell_type": "markdown",
   "id": "_vVRBtmejtCn",
   "metadata": {
    "id": "_vVRBtmejtCn"
   },
   "source": [
    "Let's start by enriching our reviews dataset again:"
   ]
  },
  {
   "cell_type": "code",
   "execution_count": 1,
   "id": "9ee16b90-43d2-47b8-8e86-8cf950c2dc60",
   "metadata": {
    "id": "9ee16b90-43d2-47b8-8e86-8cf950c2dc60",
    "tags": []
   },
   "outputs": [],
   "source": [
    "from elemeta.dataset.dataset import get_tweets_likes\n",
    "\n",
    "tweets_eda = get_tweets_likes().sample(5000)"
   ]
  },
  {
   "cell_type": "code",
   "execution_count": 2,
   "id": "4826d59c-9dee-41d3-a1c9-3d85c3d921ee",
   "metadata": {
    "id": "4826d59c-9dee-41d3-a1c9-3d85c3d921ee",
    "outputId": "0506405f-f37c-493e-c16e-31a47a3d9779",
    "tags": []
   },
   "outputs": [
    {
     "data": {
      "text/html": [
       "<div>\n",
       "<style scoped>\n",
       "    .dataframe tbody tr th:only-of-type {\n",
       "        vertical-align: middle;\n",
       "    }\n",
       "\n",
       "    .dataframe tbody tr th {\n",
       "        vertical-align: top;\n",
       "    }\n",
       "\n",
       "    .dataframe thead th {\n",
       "        text-align: right;\n",
       "    }\n",
       "</style>\n",
       "<table border=\"1\" class=\"dataframe\">\n",
       "  <thead>\n",
       "    <tr style=\"text-align: right;\">\n",
       "      <th></th>\n",
       "      <th>author</th>\n",
       "      <th>content</th>\n",
       "      <th>country</th>\n",
       "      <th>date_time</th>\n",
       "      <th>id</th>\n",
       "      <th>language</th>\n",
       "      <th>latitude</th>\n",
       "      <th>longitude</th>\n",
       "      <th>number_of_likes</th>\n",
       "      <th>number_of_shares</th>\n",
       "    </tr>\n",
       "  </thead>\n",
       "  <tbody>\n",
       "    <tr>\n",
       "      <th>10769</th>\n",
       "      <td>rihanna</td>\n",
       "      <td>I'd rather beee, smoking weeeed, everytime ya ...</td>\n",
       "      <td>NaN</td>\n",
       "      <td>28/05/2014 04:45</td>\n",
       "      <td>4.715130e+17</td>\n",
       "      <td>en</td>\n",
       "      <td>NaN</td>\n",
       "      <td>NaN</td>\n",
       "      <td>28505</td>\n",
       "      <td>28028</td>\n",
       "    </tr>\n",
       "    <tr>\n",
       "      <th>31864</th>\n",
       "      <td>Cristiano</td>\n",
       "      <td>Soon 👍🏼 https://t.co/w6Q4JitA1B</td>\n",
       "      <td>NaN</td>\n",
       "      <td>02/09/2016 11:39</td>\n",
       "      <td>7.716740e+17</td>\n",
       "      <td>en</td>\n",
       "      <td>NaN</td>\n",
       "      <td>NaN</td>\n",
       "      <td>30516</td>\n",
       "      <td>6975</td>\n",
       "    </tr>\n",
       "    <tr>\n",
       "      <th>23929</th>\n",
       "      <td>jtimberlake</td>\n",
       "      <td>🏆🎃 https://t.co/mbVAiWLNlh</td>\n",
       "      <td>NaN</td>\n",
       "      <td>31/10/2015 20:39</td>\n",
       "      <td>6.605570e+17</td>\n",
       "      <td>und</td>\n",
       "      <td>NaN</td>\n",
       "      <td>NaN</td>\n",
       "      <td>1515</td>\n",
       "      <td>391</td>\n",
       "    </tr>\n",
       "    <tr>\n",
       "      <th>39678</th>\n",
       "      <td>jimmyfallon</td>\n",
       "      <td>Tonight: Ray Romano is here! Plus @lucyhale, m...</td>\n",
       "      <td>NaN</td>\n",
       "      <td>15/01/2016 15:03</td>\n",
       "      <td>6.880140e+17</td>\n",
       "      <td>en</td>\n",
       "      <td>NaN</td>\n",
       "      <td>NaN</td>\n",
       "      <td>2580</td>\n",
       "      <td>591</td>\n",
       "    </tr>\n",
       "    <tr>\n",
       "      <th>16887</th>\n",
       "      <td>ladygaga</td>\n",
       "      <td>@iWant_Gaga Blond secrets</td>\n",
       "      <td>NaN</td>\n",
       "      <td>18/07/2015 08:06</td>\n",
       "      <td>6.223170e+17</td>\n",
       "      <td>en</td>\n",
       "      <td>NaN</td>\n",
       "      <td>NaN</td>\n",
       "      <td>1897</td>\n",
       "      <td>884</td>\n",
       "    </tr>\n",
       "  </tbody>\n",
       "</table>\n",
       "</div>"
      ],
      "text/plain": [
       "            author                                            content country  \\\n",
       "10769      rihanna  I'd rather beee, smoking weeeed, everytime ya ...     NaN   \n",
       "31864    Cristiano                    Soon 👍🏼 https://t.co/w6Q4JitA1B     NaN   \n",
       "23929  jtimberlake                         🏆🎃 https://t.co/mbVAiWLNlh     NaN   \n",
       "39678  jimmyfallon  Tonight: Ray Romano is here! Plus @lucyhale, m...     NaN   \n",
       "16887     ladygaga                          @iWant_Gaga Blond secrets     NaN   \n",
       "\n",
       "              date_time            id language  latitude  longitude  \\\n",
       "10769  28/05/2014 04:45  4.715130e+17       en       NaN        NaN   \n",
       "31864  02/09/2016 11:39  7.716740e+17       en       NaN        NaN   \n",
       "23929  31/10/2015 20:39  6.605570e+17      und       NaN        NaN   \n",
       "39678  15/01/2016 15:03  6.880140e+17       en       NaN        NaN   \n",
       "16887  18/07/2015 08:06  6.223170e+17       en       NaN        NaN   \n",
       "\n",
       "       number_of_likes  number_of_shares  \n",
       "10769            28505             28028  \n",
       "31864            30516              6975  \n",
       "23929             1515               391  \n",
       "39678             2580               591  \n",
       "16887             1897               884  "
      ]
     },
     "execution_count": 2,
     "metadata": {},
     "output_type": "execute_result"
    }
   ],
   "source": [
    "tweets_eda.head()"
   ]
  },
  {
   "cell_type": "markdown",
   "id": "b29da6b3-c4ea-4321-9a1f-d7aa424c1569",
   "metadata": {
    "id": "55a7327b-a02f-4005-9866-44497e8791b8",
    "tags": []
   },
   "source": [
    "Let's start by enriching our tweets dataste"
   ]
  },
  {
   "cell_type": "code",
   "execution_count": 3,
   "id": "6030b159-4f56-414b-a0a6-36bea0a1223b",
   "metadata": {
    "id": "6030b159-4f56-414b-a0a6-36bea0a1223b",
    "tags": []
   },
   "outputs": [
    {
     "name": "stdout",
     "output_type": "stream",
     "text": [
      "The original dataset had 10 columns\n",
      "Processing...\n"
     ]
    },
    {
     "name": "stderr",
     "output_type": "stream",
     "text": [
      "/Users/bigicecream/Library/Caches/pypoetry/virtualenvs/elemeta-n0D7hfG7-py3.11/lib/python3.11/site-packages/dateutil/parser/_parser.py:1207: UnknownTimezoneWarning: tzname PT identified but not understood.  Pass `tzinfos` argument in order to correctly return a timezone-aware datetime.  In a future version, this will raise an exception.\n",
      "  warnings.warn(\"tzname {tzname} identified but not understood.  \"\n",
      "/Users/bigicecream/Library/Caches/pypoetry/virtualenvs/elemeta-n0D7hfG7-py3.11/lib/python3.11/site-packages/dateutil/parser/_parser.py:1207: UnknownTimezoneWarning: tzname ET identified but not understood.  Pass `tzinfos` argument in order to correctly return a timezone-aware datetime.  In a future version, this will raise an exception.\n",
      "  warnings.warn(\"tzname {tzname} identified but not understood.  \"\n",
      "/Users/bigicecream/Library/Caches/pypoetry/virtualenvs/elemeta-n0D7hfG7-py3.11/lib/python3.11/site-packages/dateutil/parser/_parser.py:1207: UnknownTimezoneWarning: tzname EST identified but not understood.  Pass `tzinfos` argument in order to correctly return a timezone-aware datetime.  In a future version, this will raise an exception.\n",
      "  warnings.warn(\"tzname {tzname} identified but not understood.  \"\n",
      "/Users/bigicecream/Library/Caches/pypoetry/virtualenvs/elemeta-n0D7hfG7-py3.11/lib/python3.11/site-packages/dateutil/parser/_parser.py:1207: UnknownTimezoneWarning: tzname PST identified but not understood.  Pass `tzinfos` argument in order to correctly return a timezone-aware datetime.  In a future version, this will raise an exception.\n",
      "  warnings.warn(\"tzname {tzname} identified but not understood.  \"\n",
      "/Users/bigicecream/Library/Caches/pypoetry/virtualenvs/elemeta-n0D7hfG7-py3.11/lib/python3.11/site-packages/dateutil/parser/_parser.py:1207: UnknownTimezoneWarning: tzname EDT identified but not understood.  Pass `tzinfos` argument in order to correctly return a timezone-aware datetime.  In a future version, this will raise an exception.\n",
      "  warnings.warn(\"tzname {tzname} identified but not understood.  \"\n"
     ]
    },
    {
     "name": "stdout",
     "output_type": "stream",
     "text": [
      "The transformed dataset has 36 columns\n"
     ]
    }
   ],
   "source": [
    "from elemeta.nlp.runners.metafeature_extractors_runner import MetafeatureExtractorsRunner\n",
    "\n",
    "metafeature_extractors_runner = MetafeatureExtractorsRunner()\n",
    "\n",
    "print(\"The original dataset had {} columns\".format(tweets_eda.shape[1]))\n",
    "\n",
    "# The enrichment process\n",
    "print(\"Processing...\")\n",
    "tweets_eda = metafeature_extractors_runner.run_on_dataframe(dataframe=tweets_eda,text_column='content')\n",
    "print(\"The transformed dataset has {} columns\".format(tweets_eda.shape[1]))\n",
    "\n"
   ]
  },
  {
   "cell_type": "code",
   "execution_count": 4,
   "id": "lFN32XBpjvKR",
   "metadata": {
    "colab": {
     "base_uri": "https://localhost:8080/",
     "height": 328
    },
    "id": "lFN32XBpjvKR",
    "outputId": "80c02a41-c20b-4dc0-960b-a6ef66a41bd5",
    "tags": []
   },
   "outputs": [
    {
     "data": {
      "text/html": [
       "<div>\n",
       "<style scoped>\n",
       "    .dataframe tbody tr th:only-of-type {\n",
       "        vertical-align: middle;\n",
       "    }\n",
       "\n",
       "    .dataframe tbody tr th {\n",
       "        vertical-align: top;\n",
       "    }\n",
       "\n",
       "    .dataframe thead th {\n",
       "        text-align: right;\n",
       "    }\n",
       "</style>\n",
       "<table border=\"1\" class=\"dataframe\">\n",
       "  <thead>\n",
       "    <tr style=\"text-align: right;\">\n",
       "      <th></th>\n",
       "      <th>author</th>\n",
       "      <th>content</th>\n",
       "      <th>country</th>\n",
       "      <th>date_time</th>\n",
       "      <th>id</th>\n",
       "      <th>language</th>\n",
       "      <th>latitude</th>\n",
       "      <th>longitude</th>\n",
       "      <th>number_of_likes</th>\n",
       "      <th>number_of_shares</th>\n",
       "      <th>...</th>\n",
       "      <th>capital_letters_ratio</th>\n",
       "      <th>regex_match_count</th>\n",
       "      <th>email_count</th>\n",
       "      <th>link_count</th>\n",
       "      <th>hashtag_count</th>\n",
       "      <th>mention_count</th>\n",
       "      <th>syllable_count</th>\n",
       "      <th>acronym_count</th>\n",
       "      <th>date_count</th>\n",
       "      <th>detect_langauge</th>\n",
       "    </tr>\n",
       "  </thead>\n",
       "  <tbody>\n",
       "    <tr>\n",
       "      <th>10769</th>\n",
       "      <td>rihanna</td>\n",
       "      <td>I'd rather beee, smoking weeeed, everytime ya ...</td>\n",
       "      <td>NaN</td>\n",
       "      <td>28/05/2014 04:45</td>\n",
       "      <td>4.715130e+17</td>\n",
       "      <td>en</td>\n",
       "      <td>NaN</td>\n",
       "      <td>NaN</td>\n",
       "      <td>28505</td>\n",
       "      <td>28028</td>\n",
       "      <td>...</td>\n",
       "      <td>0.013889</td>\n",
       "      <td>1</td>\n",
       "      <td>0</td>\n",
       "      <td>0</td>\n",
       "      <td>0</td>\n",
       "      <td>0</td>\n",
       "      <td>24</td>\n",
       "      <td>0</td>\n",
       "      <td>0</td>\n",
       "      <td>en</td>\n",
       "    </tr>\n",
       "    <tr>\n",
       "      <th>31864</th>\n",
       "      <td>Cristiano</td>\n",
       "      <td>Soon 👍🏼 https://t.co/w6Q4JitA1B</td>\n",
       "      <td>NaN</td>\n",
       "      <td>02/09/2016 11:39</td>\n",
       "      <td>7.716740e+17</td>\n",
       "      <td>en</td>\n",
       "      <td>NaN</td>\n",
       "      <td>NaN</td>\n",
       "      <td>30516</td>\n",
       "      <td>6975</td>\n",
       "      <td>...</td>\n",
       "      <td>0.263158</td>\n",
       "      <td>1</td>\n",
       "      <td>0</td>\n",
       "      <td>0</td>\n",
       "      <td>0</td>\n",
       "      <td>0</td>\n",
       "      <td>5</td>\n",
       "      <td>1</td>\n",
       "      <td>0</td>\n",
       "      <td>so</td>\n",
       "    </tr>\n",
       "    <tr>\n",
       "      <th>23929</th>\n",
       "      <td>jtimberlake</td>\n",
       "      <td>🏆🎃 https://t.co/mbVAiWLNlh</td>\n",
       "      <td>NaN</td>\n",
       "      <td>31/10/2015 20:39</td>\n",
       "      <td>6.605570e+17</td>\n",
       "      <td>und</td>\n",
       "      <td>NaN</td>\n",
       "      <td>NaN</td>\n",
       "      <td>1515</td>\n",
       "      <td>391</td>\n",
       "      <td>...</td>\n",
       "      <td>0.277778</td>\n",
       "      <td>1</td>\n",
       "      <td>0</td>\n",
       "      <td>0</td>\n",
       "      <td>0</td>\n",
       "      <td>0</td>\n",
       "      <td>6</td>\n",
       "      <td>0</td>\n",
       "      <td>0</td>\n",
       "      <td>unknown</td>\n",
       "    </tr>\n",
       "    <tr>\n",
       "      <th>39678</th>\n",
       "      <td>jimmyfallon</td>\n",
       "      <td>Tonight: Ray Romano is here! Plus @lucyhale, m...</td>\n",
       "      <td>NaN</td>\n",
       "      <td>15/01/2016 15:03</td>\n",
       "      <td>6.880140e+17</td>\n",
       "      <td>en</td>\n",
       "      <td>NaN</td>\n",
       "      <td>NaN</td>\n",
       "      <td>2580</td>\n",
       "      <td>591</td>\n",
       "      <td>...</td>\n",
       "      <td>0.107527</td>\n",
       "      <td>1</td>\n",
       "      <td>0</td>\n",
       "      <td>0</td>\n",
       "      <td>2</td>\n",
       "      <td>2</td>\n",
       "      <td>23</td>\n",
       "      <td>0</td>\n",
       "      <td>0</td>\n",
       "      <td>en</td>\n",
       "    </tr>\n",
       "    <tr>\n",
       "      <th>16887</th>\n",
       "      <td>ladygaga</td>\n",
       "      <td>@iWant_Gaga Blond secrets</td>\n",
       "      <td>NaN</td>\n",
       "      <td>18/07/2015 08:06</td>\n",
       "      <td>6.223170e+17</td>\n",
       "      <td>en</td>\n",
       "      <td>NaN</td>\n",
       "      <td>NaN</td>\n",
       "      <td>1897</td>\n",
       "      <td>884</td>\n",
       "      <td>...</td>\n",
       "      <td>0.142857</td>\n",
       "      <td>1</td>\n",
       "      <td>0</td>\n",
       "      <td>0</td>\n",
       "      <td>0</td>\n",
       "      <td>1</td>\n",
       "      <td>7</td>\n",
       "      <td>0</td>\n",
       "      <td>0</td>\n",
       "      <td>en</td>\n",
       "    </tr>\n",
       "  </tbody>\n",
       "</table>\n",
       "<p>5 rows × 36 columns</p>\n",
       "</div>"
      ],
      "text/plain": [
       "            author                                            content country  \\\n",
       "10769      rihanna  I'd rather beee, smoking weeeed, everytime ya ...     NaN   \n",
       "31864    Cristiano                    Soon 👍🏼 https://t.co/w6Q4JitA1B     NaN   \n",
       "23929  jtimberlake                         🏆🎃 https://t.co/mbVAiWLNlh     NaN   \n",
       "39678  jimmyfallon  Tonight: Ray Romano is here! Plus @lucyhale, m...     NaN   \n",
       "16887     ladygaga                          @iWant_Gaga Blond secrets     NaN   \n",
       "\n",
       "              date_time            id language  latitude  longitude  \\\n",
       "10769  28/05/2014 04:45  4.715130e+17       en       NaN        NaN   \n",
       "31864  02/09/2016 11:39  7.716740e+17       en       NaN        NaN   \n",
       "23929  31/10/2015 20:39  6.605570e+17      und       NaN        NaN   \n",
       "39678  15/01/2016 15:03  6.880140e+17       en       NaN        NaN   \n",
       "16887  18/07/2015 08:06  6.223170e+17       en       NaN        NaN   \n",
       "\n",
       "       number_of_likes  number_of_shares  ...  capital_letters_ratio  \\\n",
       "10769            28505             28028  ...               0.013889   \n",
       "31864            30516              6975  ...               0.263158   \n",
       "23929             1515               391  ...               0.277778   \n",
       "39678             2580               591  ...               0.107527   \n",
       "16887             1897               884  ...               0.142857   \n",
       "\n",
       "       regex_match_count  email_count  link_count  hashtag_count  \\\n",
       "10769                  1            0           0              0   \n",
       "31864                  1            0           0              0   \n",
       "23929                  1            0           0              0   \n",
       "39678                  1            0           0              2   \n",
       "16887                  1            0           0              0   \n",
       "\n",
       "       mention_count  syllable_count  acronym_count  date_count  \\\n",
       "10769              0              24              0           0   \n",
       "31864              0               5              1           0   \n",
       "23929              0               6              0           0   \n",
       "39678              2              23              0           0   \n",
       "16887              1               7              0           0   \n",
       "\n",
       "       detect_langauge  \n",
       "10769               en  \n",
       "31864               so  \n",
       "23929          unknown  \n",
       "39678               en  \n",
       "16887               en  \n",
       "\n",
       "[5 rows x 36 columns]"
      ]
     },
     "execution_count": 4,
     "metadata": {},
     "output_type": "execute_result"
    }
   ],
   "source": [
    "tweets_eda.head()"
   ]
  },
  {
   "cell_type": "markdown",
   "id": "xCiPtr-dmala",
   "metadata": {
    "id": "xCiPtr-dmala"
   },
   "source": [
    "Let's look at the distribution of labels (number of likes). We can clearly see a long right-tail distribution."
   ]
  },
  {
   "cell_type": "code",
   "execution_count": 5,
   "id": "430efa65-8b0e-4fc2-8660-0016d901ac19",
   "metadata": {
    "id": "430efa65-8b0e-4fc2-8660-0016d901ac19",
    "tags": []
   },
   "outputs": [],
   "source": [
    "import matplotlib.pyplot as plt\n",
    "import seaborn as sns\n",
    "import numpy as np"
   ]
  },
  {
   "cell_type": "code",
   "execution_count": 6,
   "id": "e73a823e-6679-4f25-b87e-220b4cc3d645",
   "metadata": {
    "id": "e73a823e-6679-4f25-b87e-220b4cc3d645"
   },
   "outputs": [
    {
     "name": "stdout",
     "output_type": "stream",
     "text": [
      "Mean number of likes = 9639.2058\n",
      "Median number of likes = 2499.5\n"
     ]
    },
    {
     "data": {
      "text/plain": [
       "<seaborn.axisgrid.FacetGrid at 0x12d1af190>"
      ]
     },
     "execution_count": 6,
     "metadata": {},
     "output_type": "execute_result"
    },
    {
     "data": {
      "image/png": "[encoded data removed]",
      "text/plain": [
       "<Figure size 500x500 with 1 Axes>"
      ]
     },
     "metadata": {},
     "output_type": "display_data"
    }
   ],
   "source": [
    "print(\"Mean number of likes = \" + str(np.mean(tweets_eda.number_of_likes)))\n",
    "print(\"Median number of likes = \" + str(np.median(tweets_eda.number_of_likes)))\n",
    "sns.displot(tweets_eda, x=\"number_of_likes\",kind=\"kde\")"
   ]
  },
  {
   "cell_type": "markdown",
   "id": "189ba3f9-eb48-4ed8-bed4-9dc532a11dd6",
   "metadata": {
    "tags": []
   },
   "source": [
    "According to the below analysis, there is a clear correlation between tweet language and likes, since number_of_likes distribute differently between languages."
   ]
  },
  {
   "cell_type": "code",
   "execution_count": 7,
   "id": "3cca7774-a1e4-4eff-8b73-8555e23f0380",
   "metadata": {
    "tags": []
   },
   "outputs": [
    {
     "data": {
      "image/png": "[encoded data removed]",
      "text/plain": [
       "<Figure size 1000x700 with 1 Axes>"
      ]
     },
     "metadata": {},
     "output_type": "display_data"
    }
   ],
   "source": [
    "plt.subplots(figsize=(10,7))\n",
    "sns.boxplot(x=\"detect_langauge\", y=\"number_of_likes\", data=tweets_eda);"
   ]
  },
  {
   "cell_type": "markdown",
   "id": "ec5c209c-0327-4912-a72d-a70c6bd7227b",
   "metadata": {},
   "source": [
    "Apart from a few outliers, tweets with at least one emoji get more likes."
   ]
  },
  {
   "cell_type": "code",
   "execution_count": 8,
   "id": "0342fef6-f817-47a4-9ff8-e4ac7cf1e64f",
   "metadata": {
    "tags": []
   },
   "outputs": [
    {
     "data": {
      "image/png": "[encoded data removed]",
      "text/plain": [
       "<Figure size 1000x700 with 1 Axes>"
      ]
     },
     "metadata": {},
     "output_type": "display_data"
    }
   ],
   "source": [
    "tweets_eda['has_emoji'] = tweets_eda['emoji_count'].apply(lambda x: 'False' if x <= 0 else 'True')\n",
    "plt.subplots(figsize=(10,7))\n",
    "sns.boxplot(x=\"has_emoji\", y=\"number_of_likes\", data=tweets_eda);"
   ]
  },
  {
   "cell_type": "code",
   "execution_count": null,
   "id": "6f32d930-6691-46b4-b76c-4dcf5b2e2104",
   "metadata": {},
   "outputs": [],
   "source": []
  }
 ],
 "metadata": {
  "colab": {
   "collapsed_sections": [
    "l1sY29UmSk4i",
    "te_emnmRSnSr",
    "GQX3C8luS3Y4",
    "A2AJWBZ8ToAT",
    "N2ZJ2fxbXmfY",
    "1Il7aFzOXxCZ",
    "ad9CRXB8YSVY",
    "qOGMYgPTZOId",
    "0WVbjyKFwYEo"
   ],
   "provenance": [],
   "toc_visible": true
  },
  "kernelspec": {
   "display_name": "Python 3 (ipykernel)",
   "language": "python",
   "name": "python3"
  },
  "language_info": {
   "codemirror_mode": {
    "name": "ipython",
    "version": 3
   },
   "file_extension": ".py",
   "mimetype": "text/x-python",
   "name": "python",
   "nbconvert_exporter": "python",
   "pygments_lexer": "ipython3",
   "version": "3.11.1"
  }
 },
 "nbformat": 4,
 "nbformat_minor": 5
}
